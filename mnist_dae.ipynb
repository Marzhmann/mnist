{
  "nbformat": 4,
  "nbformat_minor": 0,
  "metadata": {
    "colab": {
      "provenance": []
    },
    "kernelspec": {
      "name": "python3",
      "display_name": "Python 3"
    },
    "language_info": {
      "name": "python"
    },
    "accelerator": "GPU",
    "gpuClass": "standard"
  },
  "cells": [
    {
      "cell_type": "code",
      "metadata": {
        "id": "aEM0FZFRzHP_"
      },
      "source": [
        "from tensorflow.keras.datasets import mnist\n",
        "from tensorflow.keras.layers import Input, Dense\n",
        "from tensorflow.keras.models import Model\n",
        "import matplotlib.pyplot as plt\n",
        "import numpy as np"
      ],
      "execution_count": 1,
      "outputs": []
    },
    {
      "cell_type": "code",
      "metadata": {
        "colab": {
          "base_uri": "https://localhost:8080/"
        },
        "id": "KCLyUDa_8A08",
        "outputId": "bcebbad4-eec8-4a46-a433-4a7eb97226c4"
      },
      "source": [
        "(X_train, _), (X_test, _) = mnist.load_data()\n",
        "\n",
        "X_train = X_train.astype('float32')/255\n",
        "X_test = X_test.astype('float32')/255\n",
        "\n",
        "noise_factor = 0.5\n",
        "X_train_noisy = X_train + noise_factor * np.random.normal(loc=0.0, scale=1.0, size=X_train.shape)\n",
        "X_test_noisy = X_test + noise_factor * np.random.normal(loc=0.0, scale=1.0, size=X_test.shape)\n",
        "\n",
        "X_train_noisy = np.clip(X_train_noisy, 0., 1.)\n",
        "X_test_noisy = np.clip(X_test_noisy, 0., 1.)\n",
        "\n",
        "print(X_train.shape)\n",
        "print(X_test.shape)"
      ],
      "execution_count": 2,
      "outputs": [
        {
          "output_type": "stream",
          "name": "stdout",
          "text": [
            "Downloading data from https://storage.googleapis.com/tensorflow/tf-keras-datasets/mnist.npz\n",
            "11490434/11490434 [==============================] - 0s 0us/step\n",
            "(60000, 28, 28)\n",
            "(10000, 28, 28)\n"
          ]
        }
      ]
    },
    {
      "cell_type": "code",
      "metadata": {
        "colab": {
          "base_uri": "https://localhost:8080/"
        },
        "id": "-c7Ur-sY9Vtx",
        "outputId": "2baba1e7-4c23-4c08-866a-497e84b4508d"
      },
      "source": [
        "X_train = X_train.reshape(len(X_train), 784)\n",
        "X_test = X_test.reshape(len(X_test), 784)\n",
        "\n",
        "X_train_noisy = X_train_noisy.reshape(len(X_train_noisy), 784)\n",
        "X_test_noisy = X_test_noisy.reshape(len(X_test_noisy), 784)\n",
        "\n",
        "print(X_train.shape)\n",
        "print(X_test.shape)"
      ],
      "execution_count": 3,
      "outputs": [
        {
          "output_type": "stream",
          "name": "stdout",
          "text": [
            "(60000, 784)\n",
            "(10000, 784)\n"
          ]
        }
      ]
    },
    {
      "cell_type": "code",
      "metadata": {
        "colab": {
          "base_uri": "https://localhost:8080/"
        },
        "id": "14jliYwr9tYS",
        "outputId": "2beac04c-51b1-45d9-edd5-f36055bbbfb4"
      },
      "source": [
        "input_img = Input(shape=(784))\n",
        "encoder = Dense(units=32, activation='relu')(input_img)\n",
        "decoder = Dense(units=784, activation='sigmoid')(encoder)\n",
        "\n",
        "autoencoder = Model(input_img, decoder)\n",
        "autoencoder.summary()"
      ],
      "execution_count": 4,
      "outputs": [
        {
          "output_type": "stream",
          "name": "stdout",
          "text": [
            "Model: \"model\"\n",
            "_________________________________________________________________\n",
            " Layer (type)                Output Shape              Param #   \n",
            "=================================================================\n",
            " input_1 (InputLayer)        [(None, 784)]             0         \n",
            "                                                                 \n",
            " dense (Dense)               (None, 32)                25120     \n",
            "                                                                 \n",
            " dense_1 (Dense)             (None, 784)               25872     \n",
            "                                                                 \n",
            "=================================================================\n",
            "Total params: 50,992\n",
            "Trainable params: 50,992\n",
            "Non-trainable params: 0\n",
            "_________________________________________________________________\n"
          ]
        }
      ]
    },
    {
      "cell_type": "code",
      "metadata": {
        "colab": {
          "base_uri": "https://localhost:8080/"
        },
        "id": "qo2rsqRxMOHU",
        "outputId": "7d2f0436-b6ee-46d2-b507-bc322afa58b5"
      },
      "source": [
        "autoencoder.compile(optimizer='adam', loss='binary_crossentropy')\n",
        "autoencoder.fit(X_train_noisy, X_train,\n",
        "                epochs=30,\n",
        "                batch_size=256)"
      ],
      "execution_count": 5,
      "outputs": [
        {
          "output_type": "stream",
          "name": "stdout",
          "text": [
            "Epoch 1/30\n",
            "235/235 [==============================] - 7s 4ms/step - loss: 0.2816\n",
            "Epoch 2/30\n",
            "235/235 [==============================] - 1s 4ms/step - loss: 0.1970\n",
            "Epoch 3/30\n",
            "235/235 [==============================] - 1s 3ms/step - loss: 0.1736\n",
            "Epoch 4/30\n",
            "235/235 [==============================] - 1s 4ms/step - loss: 0.1590\n",
            "Epoch 5/30\n",
            "235/235 [==============================] - 1s 4ms/step - loss: 0.1500\n",
            "Epoch 6/30\n",
            "235/235 [==============================] - 1s 4ms/step - loss: 0.1441\n",
            "Epoch 7/30\n",
            "235/235 [==============================] - 1s 4ms/step - loss: 0.1398\n",
            "Epoch 8/30\n",
            "235/235 [==============================] - 1s 4ms/step - loss: 0.1367\n",
            "Epoch 9/30\n",
            "235/235 [==============================] - 1s 3ms/step - loss: 0.1347\n",
            "Epoch 10/30\n",
            "235/235 [==============================] - 1s 3ms/step - loss: 0.1328\n",
            "Epoch 11/30\n",
            "235/235 [==============================] - 1s 4ms/step - loss: 0.1312\n",
            "Epoch 12/30\n",
            "235/235 [==============================] - 1s 4ms/step - loss: 0.1306\n",
            "Epoch 13/30\n",
            "235/235 [==============================] - 1s 5ms/step - loss: 0.1302\n",
            "Epoch 14/30\n",
            "235/235 [==============================] - 1s 5ms/step - loss: 0.1299\n",
            "Epoch 15/30\n",
            "235/235 [==============================] - 1s 4ms/step - loss: 0.1293\n",
            "Epoch 16/30\n",
            "235/235 [==============================] - 1s 3ms/step - loss: 0.1286\n",
            "Epoch 17/30\n",
            "235/235 [==============================] - 1s 4ms/step - loss: 0.1284\n",
            "Epoch 18/30\n",
            "235/235 [==============================] - 1s 3ms/step - loss: 0.1283\n",
            "Epoch 19/30\n",
            "235/235 [==============================] - 1s 4ms/step - loss: 0.1281\n",
            "Epoch 20/30\n",
            "235/235 [==============================] - 1s 4ms/step - loss: 0.1280\n",
            "Epoch 21/30\n",
            "235/235 [==============================] - 1s 4ms/step - loss: 0.1272\n",
            "Epoch 22/30\n",
            "235/235 [==============================] - 1s 3ms/step - loss: 0.1269\n",
            "Epoch 23/30\n",
            "235/235 [==============================] - 1s 3ms/step - loss: 0.1267\n",
            "Epoch 24/30\n",
            "235/235 [==============================] - 1s 4ms/step - loss: 0.1266\n",
            "Epoch 25/30\n",
            "235/235 [==============================] - 1s 4ms/step - loss: 0.1265\n",
            "Epoch 26/30\n",
            "235/235 [==============================] - 1s 4ms/step - loss: 0.1264\n",
            "Epoch 27/30\n",
            "235/235 [==============================] - 1s 5ms/step - loss: 0.1264\n",
            "Epoch 28/30\n",
            "235/235 [==============================] - 1s 5ms/step - loss: 0.1261\n",
            "Epoch 29/30\n",
            "235/235 [==============================] - 1s 4ms/step - loss: 0.1257\n",
            "Epoch 30/30\n",
            "235/235 [==============================] - 1s 4ms/step - loss: 0.1255\n"
          ]
        },
        {
          "output_type": "execute_result",
          "data": {
            "text/plain": [
              "<keras.callbacks.History at 0x7fe288cb2e50>"
            ]
          },
          "metadata": {},
          "execution_count": 5
        }
      ]
    },
    {
      "cell_type": "code",
      "metadata": {
        "colab": {
          "base_uri": "https://localhost:8080/"
        },
        "id": "PJb8xHBzEHgT",
        "outputId": "d6e6ba91-0b2d-4db4-d88d-6ec243e06c64"
      },
      "source": [
        "encoder_model = Model(input_img, encoder)\n",
        "encoder_model.summary()"
      ],
      "execution_count": 6,
      "outputs": [
        {
          "output_type": "stream",
          "name": "stdout",
          "text": [
            "Model: \"model_1\"\n",
            "_________________________________________________________________\n",
            " Layer (type)                Output Shape              Param #   \n",
            "=================================================================\n",
            " input_1 (InputLayer)        [(None, 784)]             0         \n",
            "                                                                 \n",
            " dense (Dense)               (None, 32)                25120     \n",
            "                                                                 \n",
            "=================================================================\n",
            "Total params: 25,120\n",
            "Trainable params: 25,120\n",
            "Non-trainable params: 0\n",
            "_________________________________________________________________\n"
          ]
        }
      ]
    },
    {
      "cell_type": "code",
      "metadata": {
        "id": "Uyl9DqrIDcXF",
        "colab": {
          "base_uri": "https://localhost:8080/"
        },
        "outputId": "e3660ada-fa0f-4fa2-efeb-e155b79f87f8"
      },
      "source": [
        "pred = autoencoder.predict(X_test_noisy)\n",
        "encoded_images = encoder_model.predict(X_test_noisy)"
      ],
      "execution_count": 7,
      "outputs": [
        {
          "output_type": "stream",
          "name": "stdout",
          "text": [
            "313/313 [==============================] - 1s 1ms/step\n",
            "313/313 [==============================] - 0s 1ms/step\n"
          ]
        }
      ]
    },
    {
      "cell_type": "code",
      "metadata": {
        "colab": {
          "base_uri": "https://localhost:8080/",
          "height": 323
        },
        "id": "ZufcegU7En5m",
        "outputId": "8b1b4c2b-8f80-4bf8-b92f-97d11deb4f63"
      },
      "source": [
        "plt.figure(figsize=(40, 4))\n",
        "for i in range(10):\n",
        "    # display original\n",
        "    ax = plt.subplot(3, 20, i + 1)\n",
        "    plt.imshow(X_test_noisy[i].reshape(28, 28))\n",
        "    plt.gray()\n",
        "    ax.get_xaxis().set_visible(False)\n",
        "    ax.get_yaxis().set_visible(False)\n",
        "    \n",
        "    # display encoded image\n",
        "    ax = plt.subplot(3, 20, i + 1 + 20)\n",
        "    plt.imshow(encoded_images[i].reshape(8,4))\n",
        "    plt.gray()\n",
        "    ax.get_xaxis().set_visible(False)\n",
        "    ax.get_yaxis().set_visible(False)\n",
        "    \n",
        "    # display reconstruction\n",
        "    ax = plt.subplot(3, 20, 2*20 +i+ 1)\n",
        "    plt.imshow(pred[i].reshape(28, 28))\n",
        "    plt.gray()\n",
        "    ax.get_xaxis().set_visible(False)\n",
        "    ax.get_yaxis().set_visible(False)\n",
        "    \n",
        "plt.show()"
      ],
      "execution_count": 8,
      "outputs": [
        {
          "output_type": "display_data",
          "data": {
            "text/plain": [
              "<Figure size 4000x400 with 30 Axes>"
            ],
            "image/png": "[encoded data removed]"
          },
          "metadata": {}
        }
      ]
    }
  ]
}